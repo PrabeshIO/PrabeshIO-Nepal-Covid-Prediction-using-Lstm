{
 "cells": [
  {
   "cell_type": "code",
   "execution_count": 1,
   "id": "national-optimization",
   "metadata": {},
   "outputs": [],
   "source": [
    "import pandas as pd\n",
    "import numpy as np\n",
    "import matplotlib.pyplot as plt\n",
    "\n"
   ]
  },
  {
   "cell_type": "code",
   "execution_count": null,
   "id": "hybrid-wrist",
   "metadata": {},
   "outputs": [],
   "source": []
  },
  {
   "cell_type": "code",
   "execution_count": null,
   "id": "northern-guarantee",
   "metadata": {},
   "outputs": [],
   "source": []
  },
  {
   "cell_type": "code",
   "execution_count": 2,
   "id": "separate-plasma",
   "metadata": {},
   "outputs": [
    {
     "data": {
      "text/html": [
       "<div>\n",
       "<style scoped>\n",
       "    .dataframe tbody tr th:only-of-type {\n",
       "        vertical-align: middle;\n",
       "    }\n",
       "\n",
       "    .dataframe tbody tr th {\n",
       "        vertical-align: top;\n",
       "    }\n",
       "\n",
       "    .dataframe thead th {\n",
       "        text-align: right;\n",
       "    }\n",
       "</style>\n",
       "<table border=\"1\" class=\"dataframe\">\n",
       "  <thead>\n",
       "    <tr style=\"text-align: right;\">\n",
       "      <th></th>\n",
       "      <th>index</th>\n",
       "      <th>location</th>\n",
       "      <th>date</th>\n",
       "      <th>total_cases</th>\n",
       "      <th>new_cases</th>\n",
       "    </tr>\n",
       "  </thead>\n",
       "  <tbody>\n",
       "    <tr>\n",
       "      <th>0</th>\n",
       "      <td>30</td>\n",
       "      <td>Nepal</td>\n",
       "      <td>2/24/2020</td>\n",
       "      <td>1</td>\n",
       "      <td>0</td>\n",
       "    </tr>\n",
       "    <tr>\n",
       "      <th>1</th>\n",
       "      <td>31</td>\n",
       "      <td>Nepal</td>\n",
       "      <td>2/25/2020</td>\n",
       "      <td>1</td>\n",
       "      <td>0</td>\n",
       "    </tr>\n",
       "    <tr>\n",
       "      <th>2</th>\n",
       "      <td>32</td>\n",
       "      <td>Nepal</td>\n",
       "      <td>2/26/2020</td>\n",
       "      <td>1</td>\n",
       "      <td>0</td>\n",
       "    </tr>\n",
       "    <tr>\n",
       "      <th>3</th>\n",
       "      <td>33</td>\n",
       "      <td>Nepal</td>\n",
       "      <td>2/27/2020</td>\n",
       "      <td>1</td>\n",
       "      <td>0</td>\n",
       "    </tr>\n",
       "    <tr>\n",
       "      <th>4</th>\n",
       "      <td>34</td>\n",
       "      <td>Nepal</td>\n",
       "      <td>2/28/2020</td>\n",
       "      <td>1</td>\n",
       "      <td>0</td>\n",
       "    </tr>\n",
       "    <tr>\n",
       "      <th>...</th>\n",
       "      <td>...</td>\n",
       "      <td>...</td>\n",
       "      <td>...</td>\n",
       "      <td>...</td>\n",
       "      <td>...</td>\n",
       "    </tr>\n",
       "    <tr>\n",
       "      <th>366</th>\n",
       "      <td>396</td>\n",
       "      <td>Nepal</td>\n",
       "      <td>2/24/2021</td>\n",
       "      <td>273760</td>\n",
       "      <td>94</td>\n",
       "    </tr>\n",
       "    <tr>\n",
       "      <th>367</th>\n",
       "      <td>397</td>\n",
       "      <td>Nepal</td>\n",
       "      <td>2/25/2021</td>\n",
       "      <td>273872</td>\n",
       "      <td>112</td>\n",
       "    </tr>\n",
       "    <tr>\n",
       "      <th>368</th>\n",
       "      <td>398</td>\n",
       "      <td>Nepal</td>\n",
       "      <td>2/26/2021</td>\n",
       "      <td>273984</td>\n",
       "      <td>112</td>\n",
       "    </tr>\n",
       "    <tr>\n",
       "      <th>369</th>\n",
       "      <td>399</td>\n",
       "      <td>Nepal</td>\n",
       "      <td>2/27/2021</td>\n",
       "      <td>274065</td>\n",
       "      <td>81</td>\n",
       "    </tr>\n",
       "    <tr>\n",
       "      <th>370</th>\n",
       "      <td>400</td>\n",
       "      <td>Nepal</td>\n",
       "      <td>2/28/2021</td>\n",
       "      <td>274143</td>\n",
       "      <td>78</td>\n",
       "    </tr>\n",
       "  </tbody>\n",
       "</table>\n",
       "<p>371 rows × 5 columns</p>\n",
       "</div>"
      ],
      "text/plain": [
       "     index location       date  total_cases  new_cases\n",
       "0       30    Nepal  2/24/2020            1          0\n",
       "1       31    Nepal  2/25/2020            1          0\n",
       "2       32    Nepal  2/26/2020            1          0\n",
       "3       33    Nepal  2/27/2020            1          0\n",
       "4       34    Nepal  2/28/2020            1          0\n",
       "..     ...      ...        ...          ...        ...\n",
       "366    396    Nepal  2/24/2021       273760         94\n",
       "367    397    Nepal  2/25/2021       273872        112\n",
       "368    398    Nepal  2/26/2021       273984        112\n",
       "369    399    Nepal  2/27/2021       274065         81\n",
       "370    400    Nepal  2/28/2021       274143         78\n",
       "\n",
       "[371 rows x 5 columns]"
      ]
     },
     "execution_count": 2,
     "metadata": {},
     "output_type": "execute_result"
    }
   ],
   "source": [
    "df=pd.read_csv('dataframes/owid-covid-data.csv')\n",
    "df=df.drop(['total_deaths','new_deaths','iso_code','continent'],axis=1)\n",
    "df=df[30:] #removing datas where there is no new cases \n",
    "df=df.reset_index()\n",
    "# last_date= df['date'].tolist()\n",
    "# x= len(df['date'])\n",
    "# last_date[x-1]\n",
    "df"
   ]
  },
  {
   "cell_type": "code",
   "execution_count": null,
   "id": "vietnamese-light",
   "metadata": {},
   "outputs": [],
   "source": []
  },
  {
   "cell_type": "code",
   "execution_count": null,
   "id": "pressing-accreditation",
   "metadata": {},
   "outputs": [],
   "source": []
  },
  {
   "cell_type": "code",
   "execution_count": 4,
   "id": "fitting-current",
   "metadata": {},
   "outputs": [
    {
     "data": {
      "text/plain": [
       "0        0\n",
       "1        0\n",
       "2        0\n",
       "3        0\n",
       "4        0\n",
       "      ... \n",
       "366     94\n",
       "367    112\n",
       "368    112\n",
       "369     81\n",
       "370     78\n",
       "Name: new_cases, Length: 371, dtype: int64"
      ]
     },
     "execution_count": 4,
     "metadata": {},
     "output_type": "execute_result"
    }
   ],
   "source": [
    "df1=df['new_cases']\n",
    "df1"
   ]
  },
  {
   "cell_type": "code",
   "execution_count": null,
   "id": "relative-replication",
   "metadata": {},
   "outputs": [],
   "source": []
  },
  {
   "cell_type": "code",
   "execution_count": null,
   "id": "crazy-daily",
   "metadata": {},
   "outputs": [],
   "source": []
  },
  {
   "cell_type": "code",
   "execution_count": null,
   "id": "completed-handling",
   "metadata": {},
   "outputs": [],
   "source": []
  },
  {
   "cell_type": "code",
   "execution_count": 5,
   "id": "statewide-mechanism",
   "metadata": {},
   "outputs": [],
   "source": [
    "## LSTM are sensitive to the scale of the data. so we apply MinMax scaler\n",
    "from sklearn.preprocessing import MinMaxScaler\n",
    "scaler=MinMaxScaler()\n",
    "df1=scaler.fit_transform(np.array(df1).reshape(-1,1))\n",
    "# df2=scaler.inverse_transform(df1)\n",
    "# df1"
   ]
  },
  {
   "cell_type": "code",
   "execution_count": null,
   "id": "lightweight-sewing",
   "metadata": {},
   "outputs": [],
   "source": []
  },
  {
   "cell_type": "code",
   "execution_count": null,
   "id": "actual-wisdom",
   "metadata": {},
   "outputs": [],
   "source": []
  },
  {
   "cell_type": "code",
   "execution_count": null,
   "id": "affiliated-teacher",
   "metadata": {},
   "outputs": [],
   "source": []
  },
  {
   "cell_type": "code",
   "execution_count": 6,
   "id": "moderate-policy",
   "metadata": {},
   "outputs": [],
   "source": [
    "##splitting dataset into train and test split\n",
    "training_size=int(len(df1)*0.75)\n",
    "test_size=len(df1)-training_size\n",
    "train_data,test_data=df1[0:training_size,:],df1[training_size:len(df1),:1]\n"
   ]
  },
  {
   "cell_type": "code",
   "execution_count": null,
   "id": "patient-corpus",
   "metadata": {},
   "outputs": [],
   "source": []
  },
  {
   "cell_type": "code",
   "execution_count": null,
   "id": "surprising-header",
   "metadata": {},
   "outputs": [],
   "source": []
  },
  {
   "cell_type": "code",
   "execution_count": null,
   "id": "pointed-papua",
   "metadata": {},
   "outputs": [],
   "source": []
  },
  {
   "cell_type": "code",
   "execution_count": 7,
   "id": "weighted-brown",
   "metadata": {},
   "outputs": [],
   "source": [
    "# convert an array of values into a dataset matrix\n",
    "def create_dataset(dataset, time_step):\n",
    "\tdataX, dataY = [], []\n",
    "\tfor i in range(len(dataset)-time_step-1):\n",
    "\t\ta = dataset[i:(i+time_step), 0]   ###i=0, 0,1,2,3-----99   100 \n",
    "\t\tdataX.append(a)\n",
    "\t\tdataY.append(dataset[i + time_step, 0])\n",
    "\treturn np.array(dataX), np.array(dataY)"
   ]
  },
  {
   "cell_type": "code",
   "execution_count": null,
   "id": "certified-alfred",
   "metadata": {},
   "outputs": [],
   "source": []
  },
  {
   "cell_type": "code",
   "execution_count": 8,
   "id": "republican-change",
   "metadata": {},
   "outputs": [],
   "source": [
    "\n",
    "# reshape into X=t,t+1,t+2,t+3 and Y=t+4\n",
    "time_step = 3\n",
    "X_train, y_train = create_dataset(train_data, time_step)\n",
    "X_test, y_test = create_dataset(test_data, time_step)"
   ]
  },
  {
   "cell_type": "code",
   "execution_count": null,
   "id": "african-clerk",
   "metadata": {},
   "outputs": [],
   "source": []
  },
  {
   "cell_type": "code",
   "execution_count": 476,
   "id": "trying-penguin",
   "metadata": {},
   "outputs": [],
   "source": [
    "\n",
    "# y_train"
   ]
  },
  {
   "cell_type": "code",
   "execution_count": 9,
   "id": "thorough-setup",
   "metadata": {},
   "outputs": [
    {
     "data": {
      "text/plain": [
       "(89, 3, 1)"
      ]
     },
     "execution_count": 9,
     "metadata": {},
     "output_type": "execute_result"
    }
   ],
   "source": [
    "# reshape input to be [samples, time steps, features] which is required for LSTM\n",
    "X_train =X_train.reshape(X_train.shape[0],X_train.shape[1] , 1)\n",
    "X_test = X_test.reshape(X_test.shape[0],X_test.shape[1] , 1)\n",
    "X_test.shape"
   ]
  },
  {
   "cell_type": "code",
   "execution_count": null,
   "id": "derived-allen",
   "metadata": {},
   "outputs": [],
   "source": []
  },
  {
   "cell_type": "code",
   "execution_count": null,
   "id": "specified-dakota",
   "metadata": {},
   "outputs": [],
   "source": []
  },
  {
   "cell_type": "code",
   "execution_count": 10,
   "id": "transsexual-biodiversity",
   "metadata": {},
   "outputs": [],
   "source": [
    "### Create the Stacked LSTM model\n",
    "from tensorflow.keras.models import Sequential\n",
    "from tensorflow.keras.layers import Dense,LSTM, Dropout\n",
    "# from tensorflow.keras.layers import LSTM\n",
    "# from tensorflow.keras.layers import Dropout\n",
    "from tensorflow.keras.optimizers import Adam"
   ]
  },
  {
   "cell_type": "code",
   "execution_count": 11,
   "id": "adjacent-lucas",
   "metadata": {},
   "outputs": [
    {
     "data": {
      "text/plain": [
       "3"
      ]
     },
     "execution_count": 11,
     "metadata": {},
     "output_type": "execute_result"
    }
   ],
   "source": [
    "time_step"
   ]
  },
  {
   "cell_type": "code",
   "execution_count": null,
   "id": "automotive-organizer",
   "metadata": {},
   "outputs": [],
   "source": []
  },
  {
   "cell_type": "code",
   "execution_count": 33,
   "id": "protecting-novelty",
   "metadata": {},
   "outputs": [],
   "source": [
    "model=Sequential()\n",
    "model.add(LSTM(128,activation='relu',use_bias=True, bias_initializer='ones',return_sequences=True,input_shape=(time_step,1)))\n",
    "model.add(Dropout(0.5))\n",
    "model.add(LSTM(64,return_sequences=True,activation='relu'))\n",
    "model.add(Dropout(0.25))\n",
    "model.add(LSTM(32))\n",
    "model.add(Dropout(0.2))\n",
    "model.add(Dropout(0.2))\n",
    "model.add(Dense(1))\n",
    "opt = Adam(learning_rate=0.001)\n",
    "model.compile(loss='mean_squared_error',optimizer=opt)\n"
   ]
  },
  {
   "cell_type": "code",
   "execution_count": null,
   "id": "stunning-colors",
   "metadata": {},
   "outputs": [],
   "source": []
  },
  {
   "cell_type": "code",
   "execution_count": null,
   "id": "comfortable-prophet",
   "metadata": {},
   "outputs": [],
   "source": []
  },
  {
   "cell_type": "code",
   "execution_count": null,
   "id": "meaningful-martin",
   "metadata": {},
   "outputs": [],
   "source": []
  },
  {
   "cell_type": "code",
   "execution_count": 34,
   "id": "adequate-sydney",
   "metadata": {},
   "outputs": [
    {
     "data": {
      "text/plain": [
       "[array([[-3.06623429e-02, -3.97216976e-02,  7.81343356e-02,\n",
       "          6.69236407e-02, -3.26380730e-02, -1.03316858e-01,\n",
       "         -7.35280663e-03, -8.74189436e-02, -7.02632964e-03,\n",
       "          7.60208145e-02,  8.67686421e-03, -1.20858178e-02,\n",
       "         -9.58895311e-02,  5.96317425e-02,  1.02909654e-02,\n",
       "         -3.64443958e-02, -6.62106574e-02,  5.94746843e-02,\n",
       "         -3.70541438e-02,  5.55501506e-02,  1.83604583e-02,\n",
       "          1.05072848e-01, -8.90803039e-02,  5.22296876e-03,\n",
       "          4.77169976e-02, -7.76588768e-02, -9.92130339e-02,\n",
       "         -1.06543973e-02, -8.78945366e-02, -8.75431448e-02,\n",
       "         -7.67891407e-02,  9.64048281e-02, -4.73481417e-03,\n",
       "         -3.22976187e-02,  1.14938095e-02, -6.37377948e-02,\n",
       "         -5.83255775e-02, -1.16344914e-02, -6.06435165e-02,\n",
       "          3.05226967e-02, -4.85635512e-02, -5.91327585e-02,\n",
       "         -9.63678807e-02, -9.95156914e-02,  3.53562906e-02,\n",
       "         -8.77835825e-02,  5.60962334e-02,  6.66186139e-02,\n",
       "          6.55117705e-02, -1.06672928e-01, -6.23977594e-02,\n",
       "         -1.02318659e-01, -4.08944711e-02,  2.62964293e-02,\n",
       "          2.84218118e-02, -7.42510557e-02, -1.41089112e-02,\n",
       "         -1.07136816e-01, -5.55497073e-02,  1.02094524e-01,\n",
       "          8.79531726e-02, -2.78015658e-02,  4.32594493e-02,\n",
       "          1.41175017e-02, -1.05249934e-01, -2.96279788e-02,\n",
       "          4.33138683e-02, -9.69439000e-03, -1.04518384e-01,\n",
       "         -5.29342405e-02, -2.08930671e-03, -7.99873844e-02,\n",
       "          1.24579668e-02,  1.30343512e-02, -9.95433331e-02,\n",
       "          4.91386428e-02,  8.18207338e-02, -3.78981158e-02,\n",
       "         -8.44551250e-02, -4.97464612e-02,  9.59652290e-02,\n",
       "          3.13545838e-02, -3.43760699e-02, -9.73958820e-02,\n",
       "         -8.67884904e-02,  1.47057697e-02,  8.14882144e-02,\n",
       "          9.77869704e-02, -9.96660665e-02,  1.48439780e-02,\n",
       "          7.65308365e-02, -4.60132696e-02,  2.56835669e-03,\n",
       "         -8.70852396e-02,  3.96570042e-02,  2.54838094e-02,\n",
       "         -7.31220096e-03, -9.26141888e-02,  1.06709458e-01,\n",
       "         -9.97361466e-02,  1.72436759e-02, -3.41915861e-02,\n",
       "          3.92902642e-03,  1.93214342e-02, -5.94372191e-02,\n",
       "         -2.76605785e-02, -8.73424858e-02, -3.00293118e-02,\n",
       "          3.23731080e-02, -1.00710414e-01,  9.91093591e-02,\n",
       "          4.56299111e-02, -8.23606625e-02, -8.71874392e-04,\n",
       "          4.11104485e-02,  1.89689174e-02,  7.62411132e-02,\n",
       "         -7.12329596e-02, -6.33605495e-02,  2.72696093e-02,\n",
       "         -5.82602657e-02, -4.88537811e-02,  9.18135121e-02,\n",
       "          1.62166581e-02,  6.98523596e-02, -5.86270541e-03,\n",
       "          9.95029882e-02,  9.54099670e-02,  2.74439156e-03,\n",
       "         -1.68317482e-02, -5.80295920e-03,  8.31513926e-02,\n",
       "          2.29376927e-02, -2.76358202e-02, -1.75608024e-02,\n",
       "         -2.23806053e-02, -4.59330790e-02, -4.18109298e-02,\n",
       "          9.60290954e-02, -7.81140774e-02,  1.36270523e-02,\n",
       "          1.07895978e-01, -3.01770568e-02,  3.29437032e-02,\n",
       "          8.59875903e-02,  8.21066573e-02,  4.80619743e-02,\n",
       "         -6.43055439e-02, -1.01589248e-01, -1.66605115e-02,\n",
       "         -1.17043406e-02,  7.87403509e-02,  2.87255272e-02,\n",
       "          2.31188163e-02, -5.14912680e-02, -9.48912352e-02,\n",
       "         -9.49065015e-02, -2.14123204e-02,  2.78084502e-02,\n",
       "          9.85744521e-02, -7.47593641e-02, -7.13742077e-02,\n",
       "         -8.56204033e-02, -3.70249525e-02,  5.79543337e-02,\n",
       "          7.08185360e-02,  3.65686193e-02,  2.68503204e-02,\n",
       "          8.34283456e-02,  2.17451975e-02, -9.90748852e-02,\n",
       "          9.59128067e-02, -2.93010324e-02, -8.43498260e-02,\n",
       "          8.95111933e-02,  6.11332878e-02,  9.90437940e-02,\n",
       "          6.86643198e-02,  4.85830978e-02,  3.34836766e-02,\n",
       "         -1.47672147e-02,  4.35309783e-02, -7.60869831e-02,\n",
       "          3.89220938e-02, -7.72838295e-03,  9.79514793e-02,\n",
       "         -3.50503847e-02,  6.32776245e-02,  6.20011464e-02,\n",
       "         -7.28295892e-02, -1.06381670e-01,  1.29495189e-02,\n",
       "          9.93250683e-02, -8.60429332e-02, -4.46575508e-02,\n",
       "         -8.88394564e-02,  3.18205580e-02,  1.87411085e-02,\n",
       "          2.87482366e-02,  7.00759962e-02,  2.67839804e-02,\n",
       "         -1.26659870e-07, -1.02376886e-01,  9.84774306e-02,\n",
       "          2.33038440e-02,  7.90852979e-02, -4.07364368e-02,\n",
       "         -1.89107656e-02, -2.48302743e-02,  1.86478272e-02,\n",
       "         -9.25860554e-02,  1.52345076e-02,  3.06622684e-03,\n",
       "         -5.10547385e-02, -3.87621000e-02,  1.62819177e-02,\n",
       "         -7.87630677e-02,  1.72995254e-02,  4.94181439e-02,\n",
       "         -3.65267992e-02, -9.95252579e-02,  7.51173571e-02,\n",
       "         -7.76323453e-02, -6.75689727e-02, -7.42204189e-02,\n",
       "          2.90186480e-02,  2.16426700e-03, -1.02449700e-01,\n",
       "          5.57587296e-03,  4.00164649e-02,  1.65484026e-02,\n",
       "          1.36861503e-02, -7.62450919e-02, -6.54769540e-02,\n",
       "         -2.99807340e-02, -9.34398845e-02,  1.03417523e-01,\n",
       "          2.44590268e-02, -4.90743928e-02,  3.37522402e-02,\n",
       "         -7.15102553e-02, -4.11800072e-02, -1.23567581e-02,\n",
       "          1.94283947e-02, -5.58340549e-02,  4.65959981e-02,\n",
       "         -6.16990291e-02, -4.43459228e-02,  8.11641142e-02,\n",
       "         -4.83837314e-02, -1.49917752e-02,  6.68891743e-02,\n",
       "         -3.09835672e-02, -1.76831186e-02,  4.50526401e-02,\n",
       "          7.62565359e-02, -8.28546658e-02, -9.66080651e-02,\n",
       "          3.38361934e-02,  2.96721980e-02,  1.30999684e-02,\n",
       "         -2.82134488e-02,  5.98283485e-02,  4.17851657e-03,\n",
       "         -5.00699878e-03,  3.86154130e-02, -6.15689978e-02,\n",
       "          9.53668728e-02,  5.53484634e-02, -8.87765884e-02,\n",
       "         -9.82817784e-02,  8.70416090e-02, -7.64733329e-02,\n",
       "          1.20922923e-05, -3.04255933e-02, -9.16924998e-02,\n",
       "          3.22565362e-02,  5.70356920e-02, -3.90440822e-02,\n",
       "          1.19196922e-02,  1.07103683e-01,  8.97517130e-02,\n",
       "          2.78572813e-02, -1.92362219e-02,  7.26878718e-02,\n",
       "         -7.13936538e-02, -2.17800587e-03,  8.81927833e-02,\n",
       "         -2.12705061e-02,  8.67323354e-02, -9.54455212e-02,\n",
       "          8.81730542e-02, -6.58826232e-02, -8.28711167e-02,\n",
       "          3.65942791e-02,  6.31082729e-02, -7.96879232e-02,\n",
       "         -4.89899479e-02,  2.30980739e-02, -1.02827236e-01,\n",
       "         -5.49077019e-02,  6.73406050e-02,  4.80576679e-02,\n",
       "         -8.73949900e-02, -8.52764398e-02,  9.99656245e-02,\n",
       "          6.68228492e-02,  4.65930626e-02, -6.43024296e-02,\n",
       "          1.01742484e-01, -6.76497370e-02,  9.08969715e-02,\n",
       "         -6.01221062e-02,  3.16822454e-02,  8.73310193e-02,\n",
       "          5.21325544e-02,  3.10605094e-02, -1.04833521e-01,\n",
       "         -8.24655518e-02,  3.29856500e-02,  5.42979315e-02,\n",
       "          6.58946857e-02, -1.00933760e-01,  3.45061794e-02,\n",
       "          4.53984663e-02, -9.08313990e-02,  4.52435985e-02,\n",
       "         -8.56733918e-02,  1.17824376e-02, -1.05986595e-01,\n",
       "         -1.43374503e-03, -5.94769269e-02,  6.18067384e-03,\n",
       "         -4.65977490e-02,  1.00326844e-01,  3.08038294e-03,\n",
       "          1.00860871e-01, -3.05153504e-02,  6.35213926e-02,\n",
       "         -6.29210025e-02,  5.46148643e-02,  1.26434863e-02,\n",
       "          6.10300228e-02,  4.37147990e-02, -2.96452269e-02,\n",
       "          5.57209328e-02, -7.11935908e-02, -5.25598228e-02,\n",
       "          9.67127010e-02,  5.86859211e-02, -8.61870646e-02,\n",
       "         -1.26849934e-02,  7.84612373e-02, -6.43664226e-02,\n",
       "          1.03353776e-01, -5.28298654e-02,  8.14763531e-02,\n",
       "          9.80508253e-02,  6.67351857e-02, -8.83948281e-02,\n",
       "         -6.91818446e-02,  9.66394618e-02,  9.97221693e-02,\n",
       "         -2.46857777e-02, -4.81363311e-02, -1.46798342e-02,\n",
       "          1.01736940e-01, -4.17401716e-02,  3.80585715e-02,\n",
       "          2.20635012e-02,  5.50652370e-02, -1.04754157e-01,\n",
       "          4.87631038e-02,  2.41804048e-02, -1.02110356e-02,\n",
       "          4.40680981e-03, -7.40446746e-02,  7.24593028e-02,\n",
       "         -7.15194494e-02,  8.78177807e-02, -8.00342113e-02,\n",
       "         -6.98985904e-02, -5.76344766e-02,  9.22802761e-02,\n",
       "          1.47855282e-03, -9.86109972e-02,  6.38801828e-02,\n",
       "          9.63024050e-03, -1.61977634e-02,  3.10669020e-02,\n",
       "         -4.69180942e-03, -9.35114101e-02, -5.25255576e-02,\n",
       "          3.09859440e-02,  9.19395611e-02, -9.27696973e-02,\n",
       "         -7.34059438e-02,  6.73226342e-02,  6.36594668e-02,\n",
       "          3.17214355e-02,  4.99172136e-02, -3.43990177e-02,\n",
       "          8.04214999e-02,  6.42179623e-02,  5.79526797e-02,\n",
       "         -3.26717496e-02, -5.14009185e-02, -9.13395360e-02,\n",
       "         -4.90375608e-03, -6.83444664e-02, -3.07885855e-02,\n",
       "          9.88404229e-02, -6.95889518e-02, -9.32558849e-02,\n",
       "          1.03564717e-01, -5.01367450e-03,  1.04906328e-01,\n",
       "         -6.07218519e-02,  3.17326859e-02, -2.02321410e-02,\n",
       "         -1.87920034e-02,  2.37903967e-02,  9.73247215e-02,\n",
       "         -9.61723328e-02,  6.77362606e-02,  3.96480039e-02,\n",
       "          8.45886096e-02, -4.51914668e-02,  7.37246946e-02,\n",
       "         -9.21512544e-02,  9.30880234e-02, -7.84402713e-02,\n",
       "         -4.12989035e-02, -5.47428355e-02, -9.87813547e-02,\n",
       "          8.60666856e-02,  5.10368422e-02,  1.07289247e-01,\n",
       "          1.06176399e-01, -1.13270879e-02, -7.27844387e-02,\n",
       "          8.35069045e-02,  5.99953011e-02,  2.80159637e-02,\n",
       "          7.79428855e-02,  5.47905639e-02, -4.55698371e-03,\n",
       "          8.08173344e-02, -9.42605212e-02,  5.71333542e-02,\n",
       "         -7.78905451e-02, -2.91124433e-02,  4.15146872e-02,\n",
       "         -4.66546565e-02,  1.86478272e-02,  8.05989429e-02,\n",
       "         -5.92187047e-04, -8.24052170e-02,  9.43297073e-02,\n",
       "          6.56644925e-02,  2.32589468e-02, -7.21118748e-02,\n",
       "          5.44515774e-02,  9.60400775e-02,  5.36938980e-02,\n",
       "          2.68116593e-03, -5.87038845e-02, -9.68011096e-02,\n",
       "         -7.53776506e-02,  7.46152028e-02, -4.84552830e-02,\n",
       "         -1.47733539e-02,  6.06660768e-02, -9.20903534e-02,\n",
       "          3.29583362e-02, -2.07309946e-02, -8.96203592e-02,\n",
       "         -5.76506704e-02, -3.72922346e-02, -7.03206882e-02,\n",
       "         -2.63510644e-02,  1.05280675e-01,  5.14094010e-02,\n",
       "         -4.79401648e-03, -6.49799630e-02, -1.81594342e-02,\n",
       "         -1.53491423e-02,  5.94194606e-02, -2.86394805e-02,\n",
       "          7.95375332e-02, -2.09042653e-02,  9.24888998e-03,\n",
       "          6.17471710e-02,  1.74031481e-02, -6.41147047e-03,\n",
       "          5.27026132e-02,  6.43386766e-02, -5.44865131e-02,\n",
       "         -4.67087328e-03, -4.12024409e-02, -1.01404995e-01,\n",
       "          3.67051363e-03,  3.48615125e-02,  7.21450374e-02,\n",
       "         -5.13870455e-02,  7.59041682e-02, -4.64794226e-02,\n",
       "         -1.05149612e-01, -1.48773640e-02, -1.31898522e-02,\n",
       "          3.30460295e-02, -1.02170378e-01]], dtype=float32),\n",
       " array([[-0.01353383, -0.07288697, -0.02229084, ...,  0.08136307,\n",
       "          0.02374778,  0.02105777],\n",
       "        [-0.03383676,  0.03606319,  0.04007653, ..., -0.01973247,\n",
       "          0.00384583, -0.04272203],\n",
       "        [ 0.04831414, -0.02336602,  0.02815735, ..., -0.05622291,\n",
       "         -0.00858213, -0.04351176],\n",
       "        ...,\n",
       "        [-0.04067064, -0.02358396, -0.00947876, ...,  0.00489922,\n",
       "          0.0563824 ,  0.03500125],\n",
       "        [ 0.01791603, -0.0267078 , -0.00745603, ..., -0.00719847,\n",
       "         -0.06993891, -0.02331619],\n",
       "        [-0.11799537, -0.02740848, -0.01435144, ...,  0.01093976,\n",
       "         -0.00111782,  0.02758997]], dtype=float32),\n",
       " array([1., 1., 1., 1., 1., 1., 1., 1., 1., 1., 1., 1., 1., 1., 1., 1., 1.,\n",
       "        1., 1., 1., 1., 1., 1., 1., 1., 1., 1., 1., 1., 1., 1., 1., 1., 1.,\n",
       "        1., 1., 1., 1., 1., 1., 1., 1., 1., 1., 1., 1., 1., 1., 1., 1., 1.,\n",
       "        1., 1., 1., 1., 1., 1., 1., 1., 1., 1., 1., 1., 1., 1., 1., 1., 1.,\n",
       "        1., 1., 1., 1., 1., 1., 1., 1., 1., 1., 1., 1., 1., 1., 1., 1., 1.,\n",
       "        1., 1., 1., 1., 1., 1., 1., 1., 1., 1., 1., 1., 1., 1., 1., 1., 1.,\n",
       "        1., 1., 1., 1., 1., 1., 1., 1., 1., 1., 1., 1., 1., 1., 1., 1., 1.,\n",
       "        1., 1., 1., 1., 1., 1., 1., 1., 1., 1., 1., 1., 1., 1., 1., 1., 1.,\n",
       "        1., 1., 1., 1., 1., 1., 1., 1., 1., 1., 1., 1., 1., 1., 1., 1., 1.,\n",
       "        1., 1., 1., 1., 1., 1., 1., 1., 1., 1., 1., 1., 1., 1., 1., 1., 1.,\n",
       "        1., 1., 1., 1., 1., 1., 1., 1., 1., 1., 1., 1., 1., 1., 1., 1., 1.,\n",
       "        1., 1., 1., 1., 1., 1., 1., 1., 1., 1., 1., 1., 1., 1., 1., 1., 1.,\n",
       "        1., 1., 1., 1., 1., 1., 1., 1., 1., 1., 1., 1., 1., 1., 1., 1., 1.,\n",
       "        1., 1., 1., 1., 1., 1., 1., 1., 1., 1., 1., 1., 1., 1., 1., 1., 1.,\n",
       "        1., 1., 1., 1., 1., 1., 1., 1., 1., 1., 1., 1., 1., 1., 1., 1., 1.,\n",
       "        1., 1., 1., 1., 1., 1., 1., 1., 1., 1., 1., 1., 1., 1., 1., 1., 1.,\n",
       "        1., 1., 1., 1., 1., 1., 1., 1., 1., 1., 1., 1., 1., 1., 1., 1., 1.,\n",
       "        1., 1., 1., 1., 1., 1., 1., 1., 1., 1., 1., 1., 1., 1., 1., 1., 1.,\n",
       "        1., 1., 1., 1., 1., 1., 1., 1., 1., 1., 1., 1., 1., 1., 1., 1., 1.,\n",
       "        1., 1., 1., 1., 1., 1., 1., 1., 1., 1., 1., 1., 1., 1., 1., 1., 1.,\n",
       "        1., 1., 1., 1., 1., 1., 1., 1., 1., 1., 1., 1., 1., 1., 1., 1., 1.,\n",
       "        1., 1., 1., 1., 1., 1., 1., 1., 1., 1., 1., 1., 1., 1., 1., 1., 1.,\n",
       "        1., 1., 1., 1., 1., 1., 1., 1., 1., 1., 1., 1., 1., 1., 1., 1., 1.,\n",
       "        1., 1., 1., 1., 1., 1., 1., 1., 1., 1., 1., 1., 1., 1., 1., 1., 1.,\n",
       "        1., 1., 1., 1., 1., 1., 1., 1., 1., 1., 1., 1., 1., 1., 1., 1., 1.,\n",
       "        1., 1., 1., 1., 1., 1., 1., 1., 1., 1., 1., 1., 1., 1., 1., 1., 1.,\n",
       "        1., 1., 1., 1., 1., 1., 1., 1., 1., 1., 1., 1., 1., 1., 1., 1., 1.,\n",
       "        1., 1., 1., 1., 1., 1., 1., 1., 1., 1., 1., 1., 1., 1., 1., 1., 1.,\n",
       "        1., 1., 1., 1., 1., 1., 1., 1., 1., 1., 1., 1., 1., 1., 1., 1., 1.,\n",
       "        1., 1., 1., 1., 1., 1., 1., 1., 1., 1., 1., 1., 1., 1., 1., 1., 1.,\n",
       "        1., 1.], dtype=float32)]"
      ]
     },
     "execution_count": 34,
     "metadata": {},
     "output_type": "execute_result"
    }
   ],
   "source": [
    "model.layers[0].get_weights()#weights and bias"
   ]
  },
  {
   "cell_type": "code",
   "execution_count": null,
   "id": "painful-realtor",
   "metadata": {},
   "outputs": [],
   "source": []
  },
  {
   "cell_type": "code",
   "execution_count": null,
   "id": "thorough-oakland",
   "metadata": {},
   "outputs": [],
   "source": []
  },
  {
   "cell_type": "code",
   "execution_count": null,
   "id": "injured-woman",
   "metadata": {},
   "outputs": [],
   "source": []
  },
  {
   "cell_type": "code",
   "execution_count": null,
   "id": "breeding-defendant",
   "metadata": {},
   "outputs": [],
   "source": []
  },
  {
   "cell_type": "code",
   "execution_count": null,
   "id": "aggressive-madagascar",
   "metadata": {},
   "outputs": [],
   "source": []
  },
  {
   "cell_type": "code",
   "execution_count": null,
   "id": "pursuant-framing",
   "metadata": {},
   "outputs": [],
   "source": []
  },
  {
   "cell_type": "code",
   "execution_count": null,
   "id": "separated-probe",
   "metadata": {},
   "outputs": [],
   "source": []
  },
  {
   "cell_type": "code",
   "execution_count": null,
   "id": "surgical-mauritius",
   "metadata": {},
   "outputs": [],
   "source": []
  },
  {
   "cell_type": "code",
   "execution_count": null,
   "id": "prescribed-convertible",
   "metadata": {},
   "outputs": [],
   "source": []
  },
  {
   "cell_type": "code",
   "execution_count": null,
   "id": "favorite-johns",
   "metadata": {},
   "outputs": [],
   "source": []
  },
  {
   "cell_type": "code",
   "execution_count": null,
   "id": "dominican-generator",
   "metadata": {},
   "outputs": [],
   "source": []
  },
  {
   "cell_type": "code",
   "execution_count": null,
   "id": "declared-florence",
   "metadata": {},
   "outputs": [],
   "source": []
  },
  {
   "cell_type": "code",
   "execution_count": null,
   "id": "assumed-providence",
   "metadata": {},
   "outputs": [],
   "source": []
  },
  {
   "cell_type": "code",
   "execution_count": null,
   "id": "statutory-semester",
   "metadata": {},
   "outputs": [],
   "source": []
  },
  {
   "cell_type": "code",
   "execution_count": null,
   "id": "documented-pressure",
   "metadata": {},
   "outputs": [],
   "source": []
  },
  {
   "cell_type": "code",
   "execution_count": null,
   "id": "viral-processing",
   "metadata": {},
   "outputs": [],
   "source": []
  },
  {
   "cell_type": "code",
   "execution_count": null,
   "id": "complicated-pharmacology",
   "metadata": {},
   "outputs": [],
   "source": []
  },
  {
   "cell_type": "code",
   "execution_count": null,
   "id": "aggressive-smooth",
   "metadata": {},
   "outputs": [],
   "source": []
  },
  {
   "cell_type": "code",
   "execution_count": null,
   "id": "ahead-finder",
   "metadata": {},
   "outputs": [],
   "source": []
  },
  {
   "cell_type": "code",
   "execution_count": null,
   "id": "configured-wright",
   "metadata": {},
   "outputs": [],
   "source": []
  },
  {
   "cell_type": "code",
   "execution_count": 482,
   "id": "refined-holly",
   "metadata": {},
   "outputs": [
    {
     "data": {
      "text/plain": [
       "<tensorflow.python.keras.callbacks.History at 0x24d2f4371c0>"
      ]
     },
     "execution_count": 482,
     "metadata": {},
     "output_type": "execute_result"
    }
   ],
   "source": [
    "model.fit(X_train,y_train,validation_data=(X_test,y_test),epochs=100,batch_size=16,verbose=0)"
   ]
  },
  {
   "cell_type": "code",
   "execution_count": 483,
   "id": "plastic-think",
   "metadata": {},
   "outputs": [],
   "source": [
    "import tensorflow as tf\n",
    "\n",
    "### Lets Do the prediction and check performance metrics\n",
    "train_predict=model.predict(X_train)\n",
    "test_predict=model.predict(X_test)\n"
   ]
  },
  {
   "cell_type": "code",
   "execution_count": 484,
   "id": "municipal-union",
   "metadata": {},
   "outputs": [
    {
     "data": {
      "text/plain": [
       "0.06713411360320115"
      ]
     },
     "execution_count": 484,
     "metadata": {},
     "output_type": "execute_result"
    }
   ],
   "source": [
    "import math\n",
    "import statistics\n",
    "from sklearn.metrics import mean_squared_error, mean_absolute_percentage_error\n",
    "math.sqrt(mean_squared_error(y_train,train_predict))\n"
   ]
  },
  {
   "cell_type": "code",
   "execution_count": null,
   "id": "stainless-participant",
   "metadata": {},
   "outputs": [],
   "source": []
  },
  {
   "cell_type": "code",
   "execution_count": 485,
   "id": "inner-calculation",
   "metadata": {},
   "outputs": [],
   "source": [
    "##Transformback to original form\n",
    "train_predict=scaler.inverse_transform(train_predict)\n",
    "test_predict=scaler.inverse_transform(test_predict)\n",
    "y_train=scaler.inverse_transform(y_train.reshape(-1,1))\n",
    "y_test=scaler.inverse_transform(y_test.reshape(-1,1))\n",
    "# y_train,train_predict"
   ]
  },
  {
   "cell_type": "code",
   "execution_count": null,
   "id": "close-agency",
   "metadata": {},
   "outputs": [],
   "source": []
  },
  {
   "cell_type": "code",
   "execution_count": 486,
   "id": "unusual-november",
   "metadata": {},
   "outputs": [
    {
     "data": {
      "text/plain": [
       "(385.55122182210505, 8.566549394489962e+16)"
      ]
     },
     "execution_count": 486,
     "metadata": {},
     "output_type": "execute_result"
    }
   ],
   "source": [
    "### Calculate RMSE performance metrics\n",
    "import math\n",
    "import statistics\n",
    "from sklearn.metrics import mean_squared_error\n",
    "math.sqrt(mean_squared_error(y_train,train_predict)) ,mean_absolute_percentage_error(y_train,train_predict)"
   ]
  },
  {
   "cell_type": "code",
   "execution_count": null,
   "id": "physical-remove",
   "metadata": {},
   "outputs": [],
   "source": []
  },
  {
   "cell_type": "code",
   "execution_count": 487,
   "id": "brave-chest",
   "metadata": {},
   "outputs": [
    {
     "data": {
      "text/plain": [
       "361.5094655461646"
      ]
     },
     "execution_count": 487,
     "metadata": {},
     "output_type": "execute_result"
    }
   ],
   "source": [
    "math.sqrt(mean_squared_error(y_test, test_predict))\n"
   ]
  },
  {
   "cell_type": "code",
   "execution_count": 488,
   "id": "right-slide",
   "metadata": {},
   "outputs": [
    {
     "data": {
      "text/plain": [
       "<matplotlib.legend.Legend at 0x24d2f4820d0>"
      ]
     },
     "execution_count": 488,
     "metadata": {},
     "output_type": "execute_result"
    },
    {
     "data": {
      "image/png": "[encoded data removed]",
      "text/plain": [
       "<Figure size 432x288 with 1 Axes>"
      ]
     },
     "metadata": {
      "needs_background": "light"
     },
     "output_type": "display_data"
    }
   ],
   "source": [
    "## Plotting \n",
    "plt.plot(y_train[80:],color='green')\n",
    "plt.plot(train_predict[80:],color='red',label='predicted')\n",
    "plt.title(\"TRAIN VS TRAIN PREDICTED CURVE\")\n",
    "plt.legend()"
   ]
  },
  {
   "cell_type": "code",
   "execution_count": 489,
   "id": "informative-screw",
   "metadata": {},
   "outputs": [
    {
     "data": {
      "text/plain": [
       "[<matplotlib.lines.Line2D at 0x24d37f87910>]"
      ]
     },
     "execution_count": 489,
     "metadata": {},
     "output_type": "execute_result"
    },
    {
     "data": {
      "image/png": "[encoded data removed]",
      "text/plain": [
       "<Figure size 432x288 with 1 Axes>"
      ]
     },
     "metadata": {
      "needs_background": "light"
     },
     "output_type": "display_data"
    }
   ],
   "source": [
    "plt.plot(y_test,color='green')\n",
    "plt.plot(test_predict,color='red')\n"
   ]
  },
  {
   "cell_type": "code",
   "execution_count": 490,
   "id": "unsigned-telling",
   "metadata": {},
   "outputs": [
    {
     "data": {
      "text/plain": [
       "[<matplotlib.lines.Line2D at 0x24d37fe1220>]"
      ]
     },
     "execution_count": 490,
     "metadata": {},
     "output_type": "execute_result"
    },
    {
     "data": {
      "image/png": "[encoded data removed]",
      "text/plain": [
       "<Figure size 432x288 with 1 Axes>"
      ]
     },
     "metadata": {
      "needs_background": "light"
     },
     "output_type": "display_data"
    }
   ],
   "source": [
    "alll=scaler.inverse_transform(df1)\n",
    "predicted= train_predict.tolist()+ test_predict.tolist()\n",
    "plt.plot(alll[80:])\n",
    "plt.plot(predicted[80:])\n",
    "# alll.shape\n"
   ]
  },
  {
   "cell_type": "code",
   "execution_count": 491,
   "id": "liked-institute",
   "metadata": {},
   "outputs": [
    {
     "data": {
      "text/plain": [
       "(255, 3, 1)"
      ]
     },
     "execution_count": 491,
     "metadata": {},
     "output_type": "execute_result"
    }
   ],
   "source": [
    "# X_all=scaler.inverse_transform(X_train)\n",
    "X_train.shape"
   ]
  },
  {
   "cell_type": "code",
   "execution_count": 492,
   "id": "forbidden-understanding",
   "metadata": {},
   "outputs": [
    {
     "data": {
      "text/plain": [
       "352.7508187760594"
      ]
     },
     "execution_count": 492,
     "metadata": {},
     "output_type": "execute_result"
    }
   ],
   "source": [
    "data=alll[:len(predicted)]\n",
    "len(data),len(predicted)\n",
    "math.sqrt(mean_squared_error(data, predicted))\n",
    "# mean_absolute_percentage_error(data,predicted)"
   ]
  },
  {
   "cell_type": "code",
   "execution_count": 493,
   "id": "efficient-antique",
   "metadata": {},
   "outputs": [
    {
     "data": {
      "text/plain": [
       "111"
      ]
     },
     "execution_count": 493,
     "metadata": {},
     "output_type": "execute_result"
    }
   ],
   "source": [
    "len(test_data)"
   ]
  },
  {
   "cell_type": "code",
   "execution_count": 494,
   "id": "arranged-prompt",
   "metadata": {},
   "outputs": [
    {
     "data": {
      "text/plain": [
       "3"
      ]
     },
     "execution_count": 494,
     "metadata": {},
     "output_type": "execute_result"
    }
   ],
   "source": [
    "n_steps= time_step\n",
    "\n",
    "n_steps"
   ]
  },
  {
   "cell_type": "code",
   "execution_count": 495,
   "id": "instrumental-occasion",
   "metadata": {},
   "outputs": [
    {
     "data": {
      "text/plain": [
       "(1, 3)"
      ]
     },
     "execution_count": 495,
     "metadata": {},
     "output_type": "execute_result"
    }
   ],
   "source": [
    "x_input=test_data[len(test_data)-n_steps:].reshape(1,-1)\n",
    "x_input.shape"
   ]
  },
  {
   "cell_type": "code",
   "execution_count": null,
   "id": "isolated-edwards",
   "metadata": {},
   "outputs": [],
   "source": []
  },
  {
   "cell_type": "code",
   "execution_count": 496,
   "id": "statistical-observation",
   "metadata": {},
   "outputs": [
    {
     "data": {
      "text/plain": [
       "[0.019502002437750306, 0.019502002437750306, 0.014104126763015847]"
      ]
     },
     "execution_count": 496,
     "metadata": {},
     "output_type": "execute_result"
    }
   ],
   "source": [
    "temp_input=list(x_input)\n",
    "temp_input=temp_input[0].tolist()\n",
    "temp_input"
   ]
  },
  {
   "cell_type": "code",
   "execution_count": 497,
   "id": "elect-amateur",
   "metadata": {},
   "outputs": [
    {
     "data": {
      "text/plain": [
       "3"
      ]
     },
     "execution_count": 497,
     "metadata": {},
     "output_type": "execute_result"
    }
   ],
   "source": [
    "time_step"
   ]
  },
  {
   "cell_type": "code",
   "execution_count": null,
   "id": "adverse-trailer",
   "metadata": {},
   "outputs": [],
   "source": []
  },
  {
   "cell_type": "code",
   "execution_count": 498,
   "id": "continental-target",
   "metadata": {},
   "outputs": [
    {
     "name": "stdout",
     "output_type": "stream",
     "text": [
      "predicted cases for next day:\n",
      "[[150.56515417]]\n"
     ]
    }
   ],
   "source": [
    "# demonstrate prediction for next 10 days\n",
    "from numpy import array\n",
    "\n",
    "lst_output=[]\n",
    "n_steps=time_step\n",
    "i=0\n",
    "while(i<1):\n",
    "    \n",
    "    if(len(temp_input)>3):\n",
    "        #print(temp_input)\n",
    "        x_input=np.array(temp_input[1:])\n",
    "#         print(\"{} day input {}\".format(i,x_input))\n",
    "        x_input=x_input.reshape(1,-1)\n",
    "        x_input = x_input.reshape((1, n_steps, 1))\n",
    "        #print(x_input)\n",
    "        yhat = model.predict(x_input, verbose=0)\n",
    "#         print(\"{} day output {}\".format(i,yhat))\n",
    "        temp_input.extend(yhat[0].tolist())\n",
    "        temp_input=temp_input[1:]\n",
    "        #print(temp_input)\n",
    "        lst_output.extend(yhat.tolist())\n",
    "        i=i+1\n",
    "    else:\n",
    "        x_input = x_input.reshape((1, n_steps,1))\n",
    "        yhat = model.predict(x_input, verbose=0)\n",
    "#         print(yhat[0])\n",
    "        temp_input.extend(yhat[0].tolist())\n",
    "#         print(len(temp_input))\n",
    "        lst_output.extend(yhat.tolist())\n",
    "        i=i+1\n",
    "    \n",
    "\n",
    "print(\"predicted cases for next day:\")\n",
    "print(scaler.inverse_transform(lst_output))"
   ]
  },
  {
   "cell_type": "code",
   "execution_count": 499,
   "id": "hollywood-likelihood",
   "metadata": {},
   "outputs": [
    {
     "data": {
      "text/plain": [
       "(150, [112, 112, 81])"
      ]
     },
     "execution_count": 499,
     "metadata": {},
     "output_type": "execute_result"
    }
   ],
   "source": [
    "prev= df['new_cases'][len(df)-3:].tolist()\n",
    "new=scaler.inverse_transform(np.array(lst_output[0][0]).reshape(-1,1))\n",
    "new=math.floor(new[0][0])\n",
    "new,prev"
   ]
  },
  {
   "cell_type": "code",
   "execution_count": null,
   "id": "voluntary-bandwidth",
   "metadata": {},
   "outputs": [],
   "source": []
  }
 ],
 "metadata": {
  "kernelspec": {
   "display_name": "Python 3",
   "language": "python",
   "name": "python3"
  },
  "language_info": {
   "codemirror_mode": {
    "name": "ipython",
    "version": 3
   },
   "file_extension": ".py",
   "mimetype": "text/x-python",
   "name": "python",
   "nbconvert_exporter": "python",
   "pygments_lexer": "ipython3",
   "version": "3.8.5"
  }
 },
 "nbformat": 4,
 "nbformat_minor": 5
}
